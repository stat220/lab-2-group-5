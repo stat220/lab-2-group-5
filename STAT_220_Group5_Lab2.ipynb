{
  "cells": [
    {
      "cell_type": "markdown",
      "metadata": {
        "id": "Ks0edGPurMb_"
      },
      "source": [
        "#Welcome to our Dice Probability Calculator!\n",
        "###Created for *Red Dragon Inn* by **Jeremy**, **Joey**, **Ruth**, and **Nelson** (Group 5)"
      ]
    },
    {
      "cell_type": "code",
      "execution_count": null,
      "metadata": {
        "colab": {
          "background_save": true
        },
        "id": "o0g88eRgc-Kg"
      },
      "outputs": [],
      "source": [
        "#importing packages that will be used in this project\n",
        "import itertools\n",
        "import pandas as pd\n",
        "import numpy as np\n",
        "from scipy.stats import binom"
      ]
    },
    {
      "cell_type": "markdown",
      "metadata": {
        "id": "k_B_oxUmfL6f"
      },
      "source": [
        "The following code block contains the functions that are use to calcuate the probabilities of certain results given a specific dice roll."
      ]
    },
    {
      "cell_type": "code",
      "execution_count": null,
      "metadata": {
        "colab": {
          "background_save": true
        },
        "id": "xs10oxGVeTeM"
      },
      "outputs": [],
      "source": [
        "'''\n",
        "    For the following functions:\n",
        "    m represents the number of dice;\n",
        "    n represents the number of sides on each die;\n",
        "    x represents the target value\n",
        "'''\n",
        "\n",
        "\n",
        "# Calculate probability of rolling m dice w/ n sides & have the resulting sum be >= x\n",
        "def prob_sum_greater_than_x(m:int, n:int, x:int):\n",
        "\n",
        "  # List all possible rolls\n",
        "  rolls = list(itertools.product(range(1, n+1), repeat=m))\n",
        "\n",
        "  # Find sum of all possible rolls\n",
        "  sums = np.array([sum(roll) for roll in rolls])\n",
        "\n",
        "  # Return the proportion of the sums that are greater than (or equal??) to the target\n",
        "  return np.mean(sums >= x)\n",
        "\n",
        "'''--------------------------------------------------------------------------'''\n",
        "\n",
        "# Given m, n, x, return prob @ least 1 die >= x\n",
        "def prob_at_least_one_greater(m:int, n:int, x:int):\n",
        "\n",
        "  # m num trials, success is getting x or higher\n",
        "  # P(Y >= 1) = 1 - P(Y = 0)\n",
        "  prob_fail = binom.pmf(0, m, 1 - ((x - 1)/ n))\n",
        "\n",
        "  return 1 - prob_fail"
      ]
    },
    {
      "cell_type": "markdown",
      "metadata": {
        "id": "g0m3D9Jgc7Rr"
      },
      "source": [
        "##Part A:\n",
        "**Run the program below** to calculate the probability of\n",
        "* rolling a sum of `x` or higher on `m`, `n`-sided dice."
      ]
    },
    {
      "cell_type": "code",
      "execution_count": null,
      "metadata": {
        "id": "qN8c6ZYPdLij"
      },
      "outputs": [],
      "source": [
        "# get user input\n",
        "m = input(\"How many dice? \")\n",
        "n = input(\"How many sides on each die? \")\n",
        "x = input(\"What is the target value for the sum of the dice?\")\n",
        "\n",
        "# print calculated probability\n",
        "print(f\"Probability of rolling {m}d{n} and getting a result of {x} or more: {prob_sum_greater_than_x(int(m), int(n), int(x))}\")"
      ]
    },
    {
      "cell_type": "markdown",
      "metadata": {
        "id": "mA1UXZEHdSeL"
      },
      "source": [
        "##Part B:\n",
        "**Run the program below** to calculate the probability of\n",
        "* at least one roll of x or higher on m, n-sided dice."
      ]
    },
    {
      "cell_type": "code",
      "execution_count": null,
      "metadata": {
        "colab": {
          "base_uri": "https://localhost:8080/"
        },
        "id": "AaQ35F9Jde6V",
        "outputId": "84649d54-b7fd-4e0e-f07c-6f7611d8a947"
      },
      "outputs": [
        {
          "name": "stdout",
          "output_type": "stream",
          "text": [
            "How many dice? 1\n",
            "How many sides on each die? 1\n",
            "What is the target value to roll at least one of?1\n",
            "Probability of rolling 1d1 and having at least one die show a 1 or more: 1.0\n"
          ]
        }
      ],
      "source": [
        "# get user input\n",
        "m = input(\"How many dice? \")\n",
        "n = input(\"How many sides on each die? \")\n",
        "x = input(\"What is the target value to roll at least one of?\")\n",
        "\n",
        "# print calculated probability\n",
        "print(f\"Probability of rolling {m}d{n} and having at least one die show a {x} or more: {prob_at_least_one_greater(int(m), int(n), int(x))}\")"
      ]
    },
    {
      "cell_type": "markdown",
      "metadata": {
        "id": "pAoM7ErxjrMe"
      },
      "source": [
        "##Example of one way to use the above code blocks\n",
        "Calculating the probabilities of the following three options:\n",
        "1. Roll 1d20 and get a result of 17 or more\n",
        "2. Roll 3d4 and get a result of 10 or more\n",
        "3. Roll 4d6 and have at least one dice show a 6"
      ]
    },
    {
      "cell_type": "code",
      "execution_count": null,
      "metadata": {
        "colab": {
          "base_uri": "https://localhost:8080/"
        },
        "id": "3VMH0WvRkP0X",
        "outputId": "dcf75f4f-56f3-4655-c36f-3ad7b39b765e"
      },
      "outputs": [
        {
          "name": "stdout",
          "output_type": "stream",
          "text": [
            "Probability of rolling 1d20 and getting a result of 17 or more:\n",
            "0.2\n",
            "\n",
            "Probability of rolling 3d4 and getting a result of 10 or more:\n",
            "0.15625\n",
            "\n",
            "Probability of rolling 4d6 and having at least one die show a 6:\n",
            "0.5177469135802468\n",
            "\n"
          ]
        }
      ],
      "source": [
        "# 1. Roll 1d20 and get a result of 17 or more\n",
        "print(f\"Probability of rolling 1d20 and getting a result of 17 or more:\\n{prob_sum_greater_than_x(1, 20, 17)}\\n\")\n",
        "\n",
        "# 2. Roll 3d4 and get a result of 10 or more\n",
        "print(f\"Probability of rolling 3d4 and getting a result of 10 or more:\\n{prob_sum_greater_than_x(3, 4, 10)}\\n\")\n",
        "\n",
        "# 3. Roll 4d6 and have at least one dice show a 6\n",
        "print(f\"Probability of rolling 4d6 and having at least one die show a 6:\\n{prob_at_least_one_greater(4, 6, 6)}\\n\")\n"
      ]
    },
    {
      "cell_type": "markdown",
      "metadata": {
        "id": "lYR2v72vkyJl"
      },
      "source": [
        "From the results of the code block above, it is clear that\n",
        "* **option 3**\n",
        "\n",
        "is the best since it has the highest probability."
      ]
    }
  ],
  "metadata": {
    "colab": {
      "provenance": []
    },
    "kernelspec": {
      "display_name": "Python 3",
      "name": "python3"
    },
    "language_info": {
      "name": "python"
    }
  },
  "nbformat": 4,
  "nbformat_minor": 0
}